{
 "cells": [
  {
   "cell_type": "markdown",
   "metadata": {},
   "source": [
    "# Hands-on Activity: Applying t-SNE and UMAP to Datasets\n",
    "\n",
    "## Step 1: Setup and Preparation (5 minutes)\n",
    "- Load necessary Python libraries: `numpy`, `pandas`, `scikit-learn`, `matplotlib`, `seaborn`, `umap-learn`\n",
    "- Import a sample dataset (e.g., MNIST or Iris dataset)\n",
    "\n",
    "### Instructions for package installation\n",
    "To install the required packages, run the following command:\n",
    "```\n",
    "!pip install numpy pandas scikit-learn matplotlib seaborn umap-learn\n",
    "```\n"
   ]
  },
  {
   "cell_type": "code",
   "execution_count": null,
   "metadata": {},
   "outputs": [],
   "source": [
    "# Install required packages\n",
    "! pip install numpy pandas scikit-learn matplotlib seaborn umap-learn"
   ]
  },
  {
   "cell_type": "code",
   "execution_count": null,
   "metadata": {},
   "outputs": [],
   "source": [
    "# Load necessary libraries\n",
    "import numpy as np\n",
    "import pandas as pd\n",
    "from sklearn.datasets import load_iris\n",
    "from sklearn.manifold import TSNE\n",
    "import umap\n",
    "import matplotlib.pyplot as plt\n",
    "import seaborn as sns\n",
    "\n",
    "# Import sample dataset\n",
    "iris = load_iris()\n",
    "data = iris.data\n",
    "target = iris.target"
   ]
  },
  {
   "cell_type": "markdown",
   "metadata": {},
   "source": [
    "## Step 2: Applying t-SNE (10 minutes)\n",
    "- Brief code walkthrough for implementing t-SNE using `scikit-learn`\n",
    "- Visualization of t-SNE results\n",
    "- Interpretation of the visualized results\n"
   ]
  },
  {
   "cell_type": "code",
   "execution_count": null,
   "metadata": {},
   "outputs": [],
   "source": [
    "# Implementing t-SNE\n",
    "tsne = TSNE(n_components=2, random_state=42)\n",
    "tsne_results = tsne.fit_transform(data)"
   ]
  },
  {
   "cell_type": "code",
   "execution_count": null,
   "metadata": {},
   "outputs": [],
   "source": [
    "# Visualizing t-SNE results\n",
    "plt.figure(figsize=(8, 6))\n",
    "sns.scatterplot(x=tsne_results[:,0], y=tsne_results[:,1], hue=target, palette='viridis')\n",
    "plt.title('t-SNE Results')\n",
    "plt.xlabel('t-SNE 1')\n",
    "plt.ylabel('t-SNE 2')\n",
    "plt.show()"
   ]
  },
  {
   "cell_type": "markdown",
   "metadata": {},
   "source": [
    "## Step 3: Applying UMAP (10 minutes)\n",
    "- Brief code walkthrough for implementing UMAP using `umap-learn`\n",
    "- Visualization of UMAP results\n",
    "- Interpretation of the visualized results\n"
   ]
  },
  {
   "cell_type": "code",
   "execution_count": null,
   "metadata": {},
   "outputs": [],
   "source": [
    "# Implementing UMAP\n",
    "umap_model = umap.UMAP(n_components=2, random_state=42)\n",
    "umap_results = umap_model.fit_transform(data)"
   ]
  },
  {
   "cell_type": "code",
   "execution_count": null,
   "metadata": {},
   "outputs": [],
   "source": [
    "# Visualizing UMAP results\n",
    "plt.figure(figsize=(8, 6))\n",
    "sns.scatterplot(x=umap_results[:,0], y=umap_results[:,1], hue=target, palette='viridis')\n",
    "plt.title('UMAP Results')\n",
    "plt.xlabel('UMAP 1')\n",
    "plt.ylabel('UMAP 2')\n",
    "plt.show()"
   ]
  }
 ],
 "metadata": {
  "kernelspec": {
   "display_name": "Python 3.8",
   "language": "python",
   "name": "python3"
  },
  "language_info": {
   "codemirror_mode": {
    "name": "ipython",
    "version": 3
   },
   "file_extension": ".py",
   "mimetype": "text/x-python",
   "name": "python",
   "nbconvert_exporter": "python",
   "pygments_lexer": "ipython3",
   "version": "3.8.5"
  }
 },
 "nbformat": 4,
 "nbformat_minor": 4
}
