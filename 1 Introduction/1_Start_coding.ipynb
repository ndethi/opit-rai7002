{
 "cells": [
  {
   "cell_type": "markdown",
   "id": "0483a900",
   "metadata": {},
   "source": [
    "\n",
    "## Instructions\n",
    "\n",
    "To get the maximum value from the exercise, start with the empty notebook, and try to solve the exercises by relying only on what you've learned. Then, if you're really stuck, go to the filled notebook to see proposed solutions.\n"
   ]
  },
  {
   "cell_type": "markdown",
   "id": "27236a69",
   "metadata": {},
   "source": [
    "### Exercise: Compute Basic Statistics"
   ]
  },
  {
   "cell_type": "markdown",
   "id": "739a6d3a",
   "metadata": {},
   "source": [
    "Write a Python function to compute the mean, median, and mode from a given list of numbers."
   ]
  },
  {
   "cell_type": "code",
   "execution_count": 1,
   "id": "47bd7c31",
   "metadata": {},
   "outputs": [],
   "source": [
    "# import numpy and scipy\n",
    "import numpy as np\n",
    "from scipy import stats"
   ]
  },
  {
   "cell_type": "markdown",
   "id": "713eb659-dd17-4fa2-98f7-eaeb60b7b4f5",
   "metadata": {},
   "source": [
    "*Write a function  that can take a list as a parameter, and returns its _mean_, _median_ and _mode_*"
   ]
  },
  {
   "cell_type": "code",
   "execution_count": 2,
   "id": "d933e633-9a02-4ab1-99e7-d8dcdb2babf5",
   "metadata": {},
   "outputs": [],
   "source": [
    "def compute_basic_statistics(given_list):\n",
    "    return np.mean(given_list), np.median(given_list), stats.mode(given_list)"
   ]
  },
  {
   "cell_type": "code",
   "execution_count": 25,
   "id": "ea4b44d5-4432-4eac-ad15-768f56665fd6",
   "metadata": {},
   "outputs": [],
   "source": [
    "# generate a list of 10 random integers between 0 and 10\n",
    "given_list = np.random.randint(0,10,size=10)"
   ]
  },
  {
   "cell_type": "code",
   "execution_count": 23,
   "id": "01678fdd-930b-4b08-ad81-6f7e2245f72e",
   "metadata": {},
   "outputs": [],
   "source": [
    "# call the function and pass a random integers_list as parameter\n",
    "list_mean, list_median, list_mode = compute_basic_statistics(given_list)"
   ]
  },
  {
   "cell_type": "code",
   "execution_count": 27,
   "id": "195c8733-a954-4b36-a5c0-bc2ac6fe1444",
   "metadata": {},
   "outputs": [
    {
     "name": "stdout",
     "output_type": "stream",
     "text": [
      " List of Numbers: [0 8 3 0 4 0 5 1 1 4] \n",
      " Mean: 4.9 \n",
      " Median: 5.5 \n",
      " Mode: 3\n"
     ]
    }
   ],
   "source": [
    "# print the mean, median and mode\n",
    "print(f\" List of Numbers: {given_list} \\n Mean: {list_mean} \\n Median: {list_median} \\n Mode: {list_mode.count}\")"
   ]
  },
  {
   "cell_type": "code",
   "execution_count": null,
   "id": "45ea5f56-96c1-4a02-a180-d1b5930d4ed9",
   "metadata": {},
   "outputs": [],
   "source": []
  }
 ],
 "metadata": {
  "kernelspec": {
   "display_name": "rai7002",
   "language": "python",
   "name": "rai7002"
  },
  "language_info": {
   "codemirror_mode": {
    "name": "ipython",
    "version": 3
   },
   "file_extension": ".py",
   "mimetype": "text/x-python",
   "name": "python",
   "nbconvert_exporter": "python",
   "pygments_lexer": "ipython3",
   "version": "3.11.9"
  }
 },
 "nbformat": 4,
 "nbformat_minor": 5
}
