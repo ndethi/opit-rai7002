{
 "cells": [
  {
   "cell_type": "markdown",
   "id": "5ed8500e",
   "metadata": {},
   "source": [
    "# 3.2 Guided Exercise: Data Cleaning (15 minutes)\n",
    "\n",
    "**Objective**: Clean the dataset by addressing missing data, outliers, and errors.\n",
    "\n",
    "**Steps**:\n",
    "1. Load the dataset and display the first few rows.\n",
    "2. Identify and handle missing data.\n",
    "3. Identify and handle outliers.\n",
    "4. Correct any data errors."
   ]
  },
  {
   "cell_type": "code",
   "execution_count": null,
   "id": "f3146107",
   "metadata": {},
   "outputs": [],
   "source": [
    "# Step 1: Load the dataset\n",
    "import pandas as pd\n",
    "\n",
    "# Load the dataset (!!! adapt the path to your directory !!!)\n",
    "df = pd.read_csv('/mnt/data/nfl_stadiums.csv', encoding='ISO-8859-1')\n",
    "\n",
    "# Display the first few rows of the dataframe\n",
    "df.head()"
   ]
  },
  {
   "cell_type": "code",
   "execution_count": null,
   "id": "ff719ad2",
   "metadata": {},
   "outputs": [],
   "source": [
    "# Step 2: Identify and handle missing data\n",
    "# Put your code here..."
   ]
  },
  {
   "cell_type": "code",
   "execution_count": null,
   "id": "0d1280a0",
   "metadata": {},
   "outputs": [],
   "source": [
    "# Step 3: Identify and handle outliers\n",
    "# Put your code here..."
   ]
  },
  {
   "cell_type": "code",
   "execution_count": null,
   "id": "4cd6b9b2",
   "metadata": {},
   "outputs": [],
   "source": [
    "# Step 4: Correct any data errors\n",
    "# Put your code here..."
   ]
  },
  {
   "cell_type": "markdown",
   "id": "6d7f6bb8",
   "metadata": {},
   "source": [
    "# 3.3 Guided Exercise: Data Transformation (15 minutes)\n",
    "\n",
    "**Objective**: Apply data transformation techniques to the dataset.\n",
    "\n",
    "**Steps**:\n",
    "1. Normalize and standardize numerical columns.\n",
    "2. Encode categorical variables."
   ]
  },
  {
   "cell_type": "code",
   "execution_count": null,
   "id": "d7343651",
   "metadata": {},
   "outputs": [],
   "source": [
    "# Import necessary libraries\n",
    "from sklearn.preprocessing import MinMaxScaler, StandardScaler, OneHotEncoder\n",
    "import pandas as pd\n",
    "\n",
    "# Load the dataset\n",
    "df = pd.read_csv('/mnt/data/nfl_stadiums.csv', encoding='ISO-8859-1')"
   ]
  },
  {
   "cell_type": "code",
   "execution_count": null,
   "id": "5da127bd",
   "metadata": {},
   "outputs": [],
   "source": [
    "# Step 1: Normalize and standardize numerical columns\n",
    "# Normalize 'stadium_capacity'\n",
    "# Put your code here..."
   ]
  },
  {
   "cell_type": "code",
   "execution_count": null,
   "id": "a71a2c90",
   "metadata": {},
   "outputs": [],
   "source": [
    "# Standardize 'stadium_capacity'\n",
    "# Put your code here..."
   ]
  },
  {
   "cell_type": "code",
   "execution_count": null,
   "id": "474a558d",
   "metadata": {},
   "outputs": [],
   "source": [
    "# Step 2: Encode categorical variables\n",
    "# One-Hot Encode 'stadium_type'\n",
    "# Put your code here..."
   ]
  }
 ],
 "metadata": {
  "language_info": {
   "name": "python"
  }
 },
 "nbformat": 4,
 "nbformat_minor": 5
}
