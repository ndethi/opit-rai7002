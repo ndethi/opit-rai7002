{
 "cells": [
  {
   "cell_type": "markdown",
   "id": "0f47db54",
   "metadata": {},
   "source": [
    "# 3.2 Guided Exercise: Data Cleaning (15 minutes)\n",
    "\n",
    "**Objective**: Clean the dataset by addressing missing data, outliers, and errors.\n",
    "\n",
    "**Steps**:\n",
    "1. Load the dataset and display the first few rows.\n",
    "2. Identify and handle missing data.\n",
    "3. Identify and handle outliers.\n",
    "4. Correct any data errors."
   ]
  },
  {
   "cell_type": "code",
   "execution_count": null,
   "id": "f9235ab3",
   "metadata": {},
   "outputs": [],
   "source": [
    "# Step 1: Load the dataset\n",
    "import pandas as pd\n",
    "\n",
    "# Load the dataset (!!! adapt the path to your directory !!!)\n",
    "df = pd.read_csv('/mnt/data/nfl_stadiums.csv', encoding='ISO-8859-1')\n",
    "\n",
    "# Display the first few rows of the dataframe\n",
    "print(df.head())"
   ]
  },
  {
   "cell_type": "code",
   "execution_count": null,
   "id": "19ac0557",
   "metadata": {},
   "outputs": [],
   "source": [
    "# Step 2: Identify and handle missing data\n",
    "# Checking for missing values\n",
    "print(df.isnull().sum())\n",
    "\n",
    "# Fill missing values for numerical columns with the mean\n",
    "df['stadium_open'].fillna(df['stadium_open'].mean(), inplace=True)\n",
    "df['stadium_close'].fillna(df['stadium_close'].mean(), inplace=True)\n",
    "df['stadium_capacity'].fillna(df['stadium_capacity'].mean(), inplace=True)\n",
    "\n",
    "# Fill missing values for categorical columns with a placeholder\n",
    "df.fillna('Unknown', inplace=True)\n",
    "\n",
    "print(df.isnull().sum())"
   ]
  },
  {
   "cell_type": "code",
   "execution_count": null,
   "id": "207ce51e",
   "metadata": {},
   "outputs": [],
   "source": [
    "# Step 3: Identify and handle outliers\n",
    "# Here, we assume the 'stadium_capacity' column might have outliers\n",
    "import numpy as np\n",
    "\n",
    "# Calculate the z-scores\n",
    "df['stadium_capacity'] = df['stadium_capacity'].str.replace(',', '').astype(float)\n",
    "z_scores = np.abs((df['stadium_capacity'] - df['stadium_capacity'].mean()) / df['stadium_capacity'].std())\n",
    "\n",
    "# Set a threshold for z-score\n",
    "threshold = 3\n",
    "\n",
    "# Filter out outliers\n",
    "df = df[z_scores < threshold]"
   ]
  },
  {
   "cell_type": "code",
   "execution_count": null,
   "id": "a67de2c5",
   "metadata": {},
   "outputs": [],
   "source": [
    "# Step 4: Correct any data errors\n",
    "# For demonstration, let's assume 'stadium_azimuthangle' has an incorrect entry\n",
    "df['stadium_azimuthangle'].replace('Unknown', np.nan, inplace=True)\n",
    "df['stadium_azimuthangle'].fillna(df['stadium_azimuthangle'].mean(), inplace=True)\n",
    "\n",
    "print(df.head())"
   ]
  },
  {
   "cell_type": "markdown",
   "id": "f8f85082",
   "metadata": {},
   "source": [
    "# 3.3 Guided Exercise: Data Transformation (15 minutes)\n",
    "\n",
    "**Objective**: Apply data transformation techniques to the dataset.\n",
    "\n",
    "**Steps**:\n",
    "1. Normalize and standardize numerical columns.\n",
    "2. Encode categorical variables."
   ]
  },
  {
   "cell_type": "code",
   "execution_count": null,
   "id": "b8891530",
   "metadata": {},
   "outputs": [],
   "source": [
    "# Import necessary libraries\n",
    "from sklearn.preprocessing import MinMaxScaler, StandardScaler, OneHotEncoder\n",
    "import pandas as pd\n",
    "\n",
    "# Load the dataset\n",
    "df = pd.read_csv('/mnt/data/nfl_stadiums.csv', encoding='ISO-8859-1')"
   ]
  },
  {
   "cell_type": "code",
   "execution_count": null,
   "id": "822328e6",
   "metadata": {},
   "outputs": [],
   "source": [
    "# Step 1: Normalize and standardize numerical columns\n",
    "# Normalize 'stadium_capacity'\n",
    "scaler = MinMaxScaler()\n",
    "df['stadium_capacity'] = df['stadium_capacity'].str.replace(',', '').astype(float)\n",
    "df['stadium_capacity_normalized'] = scaler.fit_transform(df[['stadium_capacity']])\n",
    "print(df[['stadium_capacity', 'stadium_capacity_normalized']].head())\n",
    "\n",
    "# Standardize 'stadium_capacity'\n",
    "scaler = StandardScaler()\n",
    "df['stadium_capacity_standardized'] = scaler.fit_transform(df[['stadium_capacity']])\n",
    "print(df[['stadium_capacity', 'stadium_capacity_standardized']].head())"
   ]
  },
  {
   "cell_type": "code",
   "execution_count": null,
   "id": "011a8c28",
   "metadata": {},
   "outputs": [],
   "source": [
    "# Step 2: Encode categorical variables\n",
    "# One-Hot Encode 'stadium_type'\n",
    "df_encoded = pd.get_dummies(df, columns=['stadium_type'])\n",
    "print(df_encoded.head())"
   ]
  }
 ],
 "metadata": {
  "language_info": {
   "name": "python"
  }
 },
 "nbformat": 4,
 "nbformat_minor": 5
}
