{
 "cells": [
  {
   "cell_type": "markdown",
   "metadata": {},
   "source": [
    "# Applying PCA to a Dataset Using scikit-learn\n",
    "\n",
    "### Objective\n",
    "Gain practical experience in applying PCA using Python.\n",
    "\n",
    "### Content\n",
    "- Introduction to the scikit-learn library for PCA\n",
    "- Loading a dataset (e.g., Iris dataset)\n",
    "- Performing PCA with scikit-learn\n",
    "- Visualizing the principal components using matplotlib or seaborn\n",
    "\n",
    "### Instructions\n",
    "To get the maximum value from the exercise, start with the empty notebook, and try to solve the exercises by relying only on what you've learned. Then, if you're really stuck, go to the filled notebook to see proposed solutions.\n"
   ]
  },
  {
   "cell_type": "markdown",
   "metadata": {},
   "source": [
    "## Step 1: Import the necessary libraries\n",
    "We will use `numpy`, `pandas`, `scikit-learn`, `matplotlib`, and `seaborn` for this activity.\n"
   ]
  },
  {
   "cell_type": "code",
   "metadata": {},
   "source": [
    "# Put your code here...."
   ],
   "execution_count": null,
   "outputs": []
  },
  {
   "cell_type": "markdown",
   "metadata": {},
   "source": [
    "## Step 2: Load the dataset\n",
    "We will use the Iris dataset, which is a classic dataset in machine learning.\n"
   ]
  },
  {
   "cell_type": "code",
   "metadata": {},
   "source": [
    "# Put your code here...."
   ],
   "execution_count": null,
   "outputs": []
  },
  {
   "cell_type": "markdown",
   "metadata": {},
   "source": [
    "## Step 3: Standardize the data\n",
    "PCA is affected by the scale of the data, so we need to standardize it.\n"
   ]
  },
  {
   "cell_type": "code",
   "metadata": {},
   "source": [
    "# Put your code here...."
   ],
   "execution_count": null,
   "outputs": []
  },
  {
   "cell_type": "markdown",
   "metadata": {},
   "source": [
    "## Step 4: Perform PCA\n",
    "We will perform PCA to reduce the dimensionality of the dataset to 2 components.\n"
   ]
  },
  {
   "cell_type": "code",
   "metadata": {},
   "source": [
    "# Put your code here...."
   ],
   "execution_count": null,
   "outputs": []
  },
  {
   "cell_type": "markdown",
   "metadata": {},
   "source": [
    "## Step 5: Visualize the principal components\n",
    "We will use a scatter plot to visualize the principal components.\n"
   ]
  },
  {
   "cell_type": "code",
   "metadata": {},
   "source": [
    "# Put your code here...."
   ],
   "execution_count": null,
   "outputs": []
  }
 ],
 "metadata": {
  "kernelspec": {
   "display_name": "Python 3",
   "language": "python",
   "name": "python3"
  },
  "language_info": {
   "codemirror_mode": {
    "name": "ipython",
    "version": 3
   },
   "file_extension": ".py",
   "mimetype": "text/x-python",
   "name": "python",
   "nbconvert_exporter": "python",
   "pygments_lexer": "ipython3",
   "version": "3.8.5"
  }
 },
 "nbformat": 4,
 "nbformat_minor": 4
}
